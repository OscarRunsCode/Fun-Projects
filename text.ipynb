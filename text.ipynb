{
 "cells": [
  {
   "cell_type": "code",
   "execution_count": 17,
   "metadata": {},
   "outputs": [],
   "source": [
    "from openpyxl import load_workbook\n",
    "import pandas as pd\n",
    "\n",
    "wb = load_workbook(filename = \"Rachel & Oscar's Wedding Guest List v2021-02-25.xlsx\", read_only = True, data_only = True)\n",
    "ws = wb['Guest Parties']"
   ]
  },
  {
   "cell_type": "code",
   "execution_count": 18,
   "metadata": {},
   "outputs": [],
   "source": [
    "df = pd.DataFrame(ws.values)\n",
    "\n",
    "headers = df.iloc[0]\n",
    "df  = pd.DataFrame(df.values[1:], columns=headers)\n",
    "df['Zip'] = df['Zip'].astype(str)\n",
    "df['Street'] = df['Street'].astype(str)\n",
    "df['Street, Line 2'] = df['Street, Line 2'].astype(str)\n",
    "df['City'] = df['City'].astype(str)\n",
    "df['State'] = df['State'].astype(str)"
   ]
  },
  {
   "cell_type": "code",
   "execution_count": 19,
   "metadata": {},
   "outputs": [
    {
     "data": {
      "text/plain": [
       "Index(['RSVP ID', 'Names', 'Formal Addressing', 'Sort Name', 'Guest 1 Title',\n",
       "       'Guest 1 First', 'Guest 1 Last', 'Guest 1 Suffix', 'Guest 2 Title',\n",
       "       'Guest 2 First', 'Guest 2 Last', 'Guest 2 Suffix', 'Others',\n",
       "       'Guest Count', 'OOT', 'Street', 'Street, Line 2', 'City', 'State',\n",
       "       'Zip', 'Country', 'Formatted Address Line 1', 'Line 2', 'Line 3',\n",
       "       'Line 4', 'Email', 'Phone', 'Group', 'List', 'Gift Received',\n",
       "       'Thank You Sent'],\n",
       "      dtype='object', name=0)"
      ]
     },
     "execution_count": 19,
     "metadata": {},
     "output_type": "execute_result"
    }
   ],
   "source": [
    "df.head(10)\n",
    "df.columns"
   ]
  },
  {
   "cell_type": "code",
   "execution_count": 21,
   "metadata": {},
   "outputs": [
    {
     "name": "stdout",
     "output_type": "stream",
     "text": [
      "--------------------------------------\n",
      "To:*****@me.com\n",
      "\n",
      "Dear Brandon A and Gage G,\n",
      "We are getting married and are excited to celebrare with you! Please save our date:\n",
      "\n",
      "\n",
      "Love,\n",
      "Rachel and Oscar\n",
      "\n",
      "P.S.\n",
      "This is the address we have on file for you: \n",
      "100 ***** APT 436 \n",
      "Longwood, FL 3***0\n",
      "\n",
      "Please let us know if this has changed so we can send ensure you receive your invitation.\n",
      "\n",
      "--------------------------------------\n",
      "To:*********@ymail.com\n",
      "\n",
      "Dear David B and Bonnie B,\n",
      "We are getting married and are excited to celebrare with you! Please save our date:\n",
      "\n",
      "\n",
      "Love,\n",
      "Rachel and Oscar\n",
      "\n",
      "P.S.\n",
      "This is the address we have on file for you: \n",
      "44 new Ln \n",
      "Indianapolis, IN 4***6\n",
      "\n",
      "Please let us know if this has changed so we can send ensure you receive your invitation.\n",
      "\n",
      "...",
      "\n",
      "--------------------------------------\n",
      "To:******@gmail.com\n",
      "\n",
      "Dear Rafal R and Rebecca R,\n",
      "We are getting married and are excited to celebrare with you! Please save our date:\n",
      "\n",
      "\n",
      "Love,\n",
      "Rachel and Oscar\n",
      "\n",
      "P.S.\n",
      "This is the address we have on file for you: \n",
      "123 firefly lane\n",
      "Atlanta, GA 30306\n",
      "\n",
      "Please let us know if this has changed so we can send ensure you receive your invitation.\n",
      "\n"
     ]
    }
   ],
   "source": [
    "from IPython.display import Image\n",
    "Image(filename='Save The Date.png') \n",
    "\n",
    "\n",
    "for row in df.index:\n",
    "    if (len(df.iloc[row,3])) > 0 and df.iloc[row,27]  != 'Vendors' and len(df.iloc[row,25]) > 0:\n",
    "        if len(df.iloc[row,10]) > 0:\n",
    "            guest = \" and \" + df.iloc[row,9] + \" \" + df.iloc[row,10] + \",\"\n",
    "        else:\n",
    "            guest = \",\"\n",
    "        if len(df.iloc[row,15]) > 1:\n",
    "            address = \"This is the address we have on file for you: \\n\" + df.iloc[row,15] + \" \" + df.iloc[row,16] + \"\\n\" + df.iloc[row,17] + \", \" + df.iloc[row,18] + \" \" + df.iloc[row,19] + \"\\n\" +\"\\n\" + \"Please let us know if this has changed so we can send ensure you receive your invitation.\"\n",
    "        else: \n",
    "            address = \"We do not have an address for you.\" + \"\\n\" + \"Please let us know your address so we can send you an invitation.\"\n",
    "        print(\"--------------------------------------\")\n",
    "        print(\"To:\" + df.iloc[row,25])\n",
    "        print(\"\")\n",
    "        print(\"Dear \" + df.iloc[row,5] + \" \" + df.iloc[row,6] + guest)\n",
    "        print(\"Oscar and I are getting married and are excited to celebrare with you! Please save our date:\")\n",
    "        print(\"\")\n",
    "        print(\"\")\n",
    "        print(\"Love,\")\n",
    "        print(\"Rachel and Oscar\")\n",
    "        print(\"\")\n",
    "        print(\"P.S.\")\n",
    "        print(address)\n",
    "        print(\"\")\n",
    "        "
   ]
  },
  {
   "cell_type": "code",
   "execution_count": 155,
   "metadata": {},
   "outputs": [
    {
     "name": "stdout",
     "output_type": "stream",
     "text": [
      "True\n"
     ]
    }
   ],
   "source": [
    "print(df.iloc[4,27] != 'vendors')"
   ]
  },
  {
   "cell_type": "code",
   "execution_count": null,
   "metadata": {},
   "outputs": [],
   "source": [
    "for row in df.index:\n",
    "    if not (len(df.iloc[row,3]) > 0):\n",
    "        print(df.iloc[row,3])"
   ]
  },
  {
   "cell_type": "code",
   "execution_count": 176,
   "metadata": {},
   "outputs": [
    {
     "name": "stdout",
     "output_type": "stream",
     "text": [
      "43 ***** Dr \n",
      "*****, GA 3**65\n"
     ]
    }
   ],
   "source": [
    "address = df.iloc[5,15] + \" \" + df.iloc[5,16] + \"\\n\" + df.iloc[5,17] + \", \" + df.iloc[5,18] + \" \" + df.iloc[5,19]\n",
    "print(address)"
   ]
  },
  {
   "cell_type": "code",
   "execution_count": 163,
   "metadata": {},
   "outputs": [
    {
     "name": "stdout",
     "output_type": "stream",
     "text": [
      "Hello \n",
      " world\n"
     ]
    }
   ],
   "source": [
    "print(\"Hello \\n world\")"
   ]
  },
  {
   "cell_type": "code",
   "execution_count": 5,
   "metadata": {},
   "outputs": [
    {
     "name": "stdout",
     "output_type": "stream",
     "text": [
      "C:\\Users\\oscar\n"
     ]
    }
   ],
   "source": [
    "cd"
   ]
  },
  {
   "cell_type": "code",
   "execution_count": null,
   "metadata": {},
   "outputs": [],
   "source": []
  }
 ],
 "metadata": {
  "kernelspec": {
   "display_name": "Python 3",
   "language": "python",
   "name": "python3"
  },
  "language_info": {
   "codemirror_mode": {
    "name": "ipython",
    "version": 3
   },
   "file_extension": ".py",
   "mimetype": "text/x-python",
   "name": "python",
   "nbconvert_exporter": "python",
   "pygments_lexer": "ipython3",
   "version": "3.7.4"
  }
 },
 "nbformat": 4,
 "nbformat_minor": 4
}
